{
 "cells": [
  {
   "cell_type": "markdown",
   "metadata": {},
   "source": [
    "To load a model simply do the following:"
   ]
  },
  {
   "cell_type": "code",
   "execution_count": 1,
   "metadata": {},
   "outputs": [
    {
     "name": "stderr",
     "output_type": "stream",
     "text": [
      "Using TensorFlow backend.\n"
     ]
    }
   ],
   "source": [
    "from keras.models import load_model\n",
    "import char2word\n",
    "\n",
    "model = load_model(\"model.h5\")"
   ]
  },
  {
   "cell_type": "markdown",
   "metadata": {},
   "source": [
    "The following code does the prediction"
   ]
  },
  {
   "cell_type": "code",
   "execution_count": 2,
   "metadata": {
    "scrolled": true
   },
   "outputs": [
    {
     "name": "stderr",
     "output_type": "stream",
     "text": [
      "/home/arjo/Documents/language_modelling/tweet-prediction/char2word.py:90: RuntimeWarning: invalid value encountered in float_scalars\n",
      "  dist = np.dot(dv,vectors[i])/(np.linalg.norm(dv)*np.linalg.norm(vectors[i]))\n"
     ]
    },
    {
     "name": "stdout",
     "output_type": "stream",
     "text": [
      "[\"he'll\", 'merely', \"they'll\", \"she'll\", \"assist's\", \"latter's\", 'although', 'germane']\n",
      "['that', \"given's\", 'apparently', 'irrespective', 'hell']\n"
     ]
    }
   ],
   "source": [
    "nlp = char2word.spacy_model()\n",
    "print(char2word.predictor(nlp,model,\"hmtsalag\"))\n",
    "print(char2word.predictor(nlp,model,\"tgaih\"))"
   ]
  },
  {
   "cell_type": "markdown",
   "metadata": {},
   "source": [
    "Our model has a problem: it seems to assign individual values to each letter as seen below"
   ]
  },
  {
   "cell_type": "code",
   "execution_count": 6,
   "metadata": {},
   "outputs": [
    {
     "name": "stderr",
     "output_type": "stream",
     "text": [
      "/home/arjo/Documents/language_modelling/tweet-prediction/char2word.py:90: RuntimeWarning: invalid value encountered in float_scalars\n",
      "  dist = np.dot(dv,vectors[i])/(np.linalg.norm(dv)*np.linalg.norm(vectors[i]))\n"
     ]
    },
    {
     "name": "stdout",
     "output_type": "stream",
     "text": [
      "[\"leave's\", \"I'd\", \"concern's\"]\n"
     ]
    }
   ],
   "source": [
    "print(char2word.predictor(nlp,model,\"iwths\"))"
   ]
  },
  {
   "cell_type": "markdown",
   "metadata": {},
   "source": [
    "The problem with many of these is that the words in the wordlist have no word2vec counterpart."
   ]
  },
  {
   "cell_type": "code",
   "execution_count": 4,
   "metadata": {},
   "outputs": [
    {
     "name": "stderr",
     "output_type": "stream",
     "text": [
      "/home/arjo/Documents/language_modelling/tweet-prediction/char2word.py:90: RuntimeWarning: invalid value encountered in float_scalars\n",
      "  dist = np.dot(dv,vectors[i])/(np.linalg.norm(dv)*np.linalg.norm(vectors[i]))\n"
     ]
    },
    {
     "name": "stdout",
     "output_type": "stream",
     "text": [
      "[\"where's\", \"she'll\", \"who'll\", \"mad's\"]\n"
     ]
    }
   ],
   "source": [
    "print(char2word.predictor(nlp,model,\"wswm\"))"
   ]
  },
  {
   "cell_type": "code",
   "execution_count": 5,
   "metadata": {},
   "outputs": [
    {
     "name": "stderr",
     "output_type": "stream",
     "text": [
      "/home/arjo/Documents/language_modelling/tweet-prediction/char2word.py:90: RuntimeWarning: invalid value encountered in float_scalars\n",
      "  dist = np.dot(dv,vectors[i])/(np.linalg.norm(dv)*np.linalg.norm(vectors[i]))\n"
     ]
    },
    {
     "data": {
      "text/plain": [
       "[\"Small's\", 'Mr', \"Be's\"]"
      ]
     },
     "execution_count": 5,
     "metadata": {},
     "output_type": "execute_result"
    }
   ],
   "source": [
    "char2word.predictor(nlp,model,\"SMB\")"
   ]
  },
  {
   "cell_type": "markdown",
   "metadata": {},
   "source": [
    "I should have used cosine similarity in the matching function. Back to work..."
   ]
  },
  {
   "cell_type": "code",
   "execution_count": null,
   "metadata": {
    "collapsed": true
   },
   "outputs": [],
   "source": []
  }
 ],
 "metadata": {
  "kernelspec": {
   "display_name": "Python 3",
   "language": "python",
   "name": "python3"
  },
  "language_info": {
   "codemirror_mode": {
    "name": "ipython",
    "version": 3
   },
   "file_extension": ".py",
   "mimetype": "text/x-python",
   "name": "python",
   "nbconvert_exporter": "python",
   "pygments_lexer": "ipython3",
   "version": "3.5.2"
  }
 },
 "nbformat": 4,
 "nbformat_minor": 2
}
